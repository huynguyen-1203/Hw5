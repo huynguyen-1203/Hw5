{
 "cells": [
  {
   "cell_type": "code",
   "execution_count": 26,
   "id": "b918cf95",
   "metadata": {},
   "outputs": [],
   "source": [
    "import numpy as np\n",
    "import pandas as pd\n",
    "import matplotlib.pyplot as plt"
   ]
  },
  {
   "cell_type": "markdown",
   "id": "093ea148",
   "metadata": {},
   "source": [
    "# 2"
   ]
  },
  {
   "cell_type": "code",
   "execution_count": 15,
   "id": "c0a17cb8",
   "metadata": {},
   "outputs": [],
   "source": [
    "class LogisticRegression:\n",
    "    def __init__(self, numOfIteration, lr, w = None):\n",
    "        self.w = w\n",
    "        self.numOfIteration = numOfIteration\n",
    "        self.lr = lr\n",
    "        \n",
    "    def coef(self):\n",
    "        return self.w\n",
    "    \n",
    "    def sigmoid(self, x):\n",
    "        return 1 / (1 + np.exp(-x))\n",
    "    \n",
    "    def fit(self, x, y):\n",
    "        N, d = x.shape\n",
    "        x = np.hstack((np.ones((N, 1)), x))\n",
    "        self.w = np.array([0.,0.1,0.1]).reshape(-1,1)\n",
    "        for i in range(1, self.numOfIteration):\n",
    "            y_predict = self.sigmoid(np.dot(x, self.w))\n",
    "            cost = -np.sum(np.multiply(y, np.log(y_predict)) + np.multiply(1-y, np.log(1-y_predict)))\n",
    "            self.w = self.w - self.lr * np.dot(x.T, y_predict - y)"
   ]
  },
  {
   "cell_type": "markdown",
   "id": "bb066711",
   "metadata": {},
   "source": [
    "# 3"
   ]
  },
  {
   "cell_type": "code",
   "execution_count": 16,
   "id": "377b35c9",
   "metadata": {},
   "outputs": [],
   "source": [
    "df = pd.read_csv('C:Downloads/dataset.csv').values"
   ]
  },
  {
   "cell_type": "code",
   "execution_count": 17,
   "id": "3dc6c6f3",
   "metadata": {},
   "outputs": [
    {
     "data": {
      "text/plain": [
       "array([[10.  ,  1.  ,  1.  ],\n",
       "       [ 5.  ,  2.  ,  1.  ],\n",
       "       [ 6.  ,  1.8 ,  1.  ],\n",
       "       [ 7.  ,  1.  ,  1.  ],\n",
       "       [ 8.  ,  2.  ,  1.  ],\n",
       "       [ 9.  ,  0.5 ,  1.  ],\n",
       "       [ 4.  ,  3.  ,  1.  ],\n",
       "       [ 5.  ,  2.5 ,  1.  ],\n",
       "       [ 8.  ,  1.  ,  1.  ],\n",
       "       [ 4.  ,  2.5 ,  1.  ],\n",
       "       [ 8.  ,  0.1 ,  0.  ],\n",
       "       [ 7.  ,  0.15,  0.  ],\n",
       "       [ 4.  ,  1.  ,  0.  ],\n",
       "       [ 5.  ,  0.8 ,  0.  ],\n",
       "       [ 7.  ,  0.3 ,  0.  ],\n",
       "       [ 4.  ,  1.  ,  0.  ],\n",
       "       [ 5.  ,  0.5 ,  0.  ],\n",
       "       [ 6.  ,  0.3 ,  0.  ],\n",
       "       [ 7.  ,  0.2 ,  0.  ],\n",
       "       [ 8.  ,  0.15,  0.  ]])"
      ]
     },
     "execution_count": 17,
     "metadata": {},
     "output_type": "execute_result"
    }
   ],
   "source": [
    "df"
   ]
  },
  {
   "cell_type": "code",
   "execution_count": 18,
   "id": "a1e2cd70",
   "metadata": {},
   "outputs": [],
   "source": [
    "N, d = df.shape\n",
    "x = df[:, 0:d-1].reshape(-1, d-1)\n",
    "y = df[:, 2].reshape(-1, 1)"
   ]
  },
  {
   "cell_type": "code",
   "execution_count": 19,
   "id": "f9852a61",
   "metadata": {},
   "outputs": [],
   "source": [
    "model = LogisticRegression(numOfIteration=1000, lr = 0.01)"
   ]
  },
  {
   "cell_type": "code",
   "execution_count": 20,
   "id": "927f8d6b",
   "metadata": {
    "scrolled": true
   },
   "outputs": [],
   "source": [
    "model.fit(x, y)"
   ]
  },
  {
   "cell_type": "code",
   "execution_count": 21,
   "id": "7f3028ac",
   "metadata": {},
   "outputs": [
    {
     "data": {
      "text/plain": [
       "array([[-7.25683504],\n",
       "       [ 0.62975152],\n",
       "       [ 3.6436906 ]])"
      ]
     },
     "execution_count": 21,
     "metadata": {},
     "output_type": "execute_result"
    }
   ],
   "source": [
    "model.coef()"
   ]
  },
  {
   "cell_type": "markdown",
   "id": "dc13512e",
   "metadata": {},
   "source": [
    "# 5"
   ]
  },
  {
   "cell_type": "code",
   "execution_count": 30,
   "id": "a9e0c4ac",
   "metadata": {},
   "outputs": [
    {
     "data": {
      "image/png": "[encoded data removed]",
      "text/plain": [
       "<Figure size 432x288 with 1 Axes>"
      ]
     },
     "metadata": {
      "needs_background": "light"
     },
     "output_type": "display_data"
    }
   ],
   "source": [
    "cho_vay = x[y[:,0]==1]\n",
    "tu_choi = x[y[:,0]==0]\n",
    "\n",
    "plt.scatter(cho_vay[:, 0], cho_vay[:, 1], c='orange', edgecolors='none', s=30, label='đồng ý cho vay')\n",
    "plt.scatter(tu_choi[:, 0], tu_choi[:, 1], c='green', edgecolors='none', s=30, label='từ chối cho vay')\n",
    "plt.legend(loc=1)\n",
    "\n",
    "plt.xlabel('mức lương (triệu)')\n",
    "plt.ylabel('kinh nghiệm (năm)')\n",
    "\n",
    "t = 0.5\n",
    "plt.plot((4, 10),(-(model.w[0]+4*model.w[1]+ np.log(1/t-1))/model.w[2], -(model.w[0] + 10 * model.w[1]+ np.log(1/t-1))/model.w[2]), 'g')\n",
    "plt.show()"
   ]
  },
  {
   "cell_type": "code",
   "execution_count": null,
   "id": "a146588b",
   "metadata": {},
   "outputs": [],
   "source": []
  }
 ],
 "metadata": {
  "kernelspec": {
   "display_name": "Python 3",
   "language": "python",
   "name": "python3"
  },
  "language_info": {
   "codemirror_mode": {
    "name": "ipython",
    "version": 3
   },
   "file_extension": ".py",
   "mimetype": "text/x-python",
   "name": "python",
   "nbconvert_exporter": "python",
   "pygments_lexer": "ipython3",
   "version": "3.8.8"
  }
 },
 "nbformat": 4,
 "nbformat_minor": 5
}
